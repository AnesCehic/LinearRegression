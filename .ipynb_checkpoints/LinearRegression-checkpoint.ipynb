{
 "cells": [
  {
   "cell_type": "code",
   "execution_count": 76,
   "metadata": {},
   "outputs": [],
   "source": [
    "import pandas as pd\n",
    "import matplotlib.pyplot as plt\n",
    "\n",
    "from sklearn import linear_model as lm\n",
    "from sklearn.metrics import mean_squared_error, r2_score"
   ]
  },
  {
   "cell_type": "code",
   "execution_count": 77,
   "metadata": {},
   "outputs": [],
   "source": [
    "reg = lm.LinearRegression()"
   ]
  },
  {
   "cell_type": "code",
   "execution_count": 102,
   "metadata": {},
   "outputs": [],
   "source": [
    "housing_data = pd.read_csv(\"HousingData.csv\")\n",
    "\n",
    "X = housing_data.iloc[:,:-1].values\n",
    "Y = housing_data.iloc[:,13].values"
   ]
  },
  {
   "cell_type": "code",
   "execution_count": 99,
   "metadata": {},
   "outputs": [
    {
     "name": "stdout",
     "output_type": "stream",
     "text": [
      "[[6.32000e-03 1.80000e+01 2.31000e+00 ... 1.53000e+01 3.96900e+02\n",
      "  4.98000e+00]\n",
      " [2.73100e-02 0.00000e+00 7.07000e+00 ... 1.78000e+01 3.96900e+02\n",
      "  9.14000e+00]\n",
      " [2.72900e-02 0.00000e+00 7.07000e+00 ... 1.78000e+01 3.92830e+02\n",
      "  4.03000e+00]\n",
      " ...\n",
      " [9.92485e+00 0.00000e+00 1.81000e+01 ... 2.02000e+01 3.88520e+02\n",
      "  1.64400e+01]\n",
      " [9.32909e+00 0.00000e+00 1.81000e+01 ... 2.02000e+01 3.96900e+02\n",
      "  1.81300e+01]\n",
      " [7.52601e+00 0.00000e+00 1.81000e+01 ... 2.02000e+01 3.04210e+02\n",
      "  1.93100e+01]]\n"
     ]
    }
   ],
   "source": [
    "X_train = X[:450]\n",
    "X_test = X[-150:]\n",
    "\n",
    "Y_train = Y[:450]\n",
    "Y_test = Y[-150:]\n",
    "\n",
    "print(X_train)"
   ]
  },
  {
   "cell_type": "code",
   "execution_count": 101,
   "metadata": {},
   "outputs": [],
   "source": [
    "#a = reg.fit(X_train, Y_train)"
   ]
  },
  {
   "cell_type": "code",
   "execution_count": 94,
   "metadata": {},
   "outputs": [
    {
     "data": {
      "image/png": "[encoded data removed]",
      "text/plain": [
       "<Figure size 432x288 with 1 Axes>"
      ]
     },
     "metadata": {},
     "output_type": "display_data"
    }
   ],
   "source": [
    "plt.xticks(())\n",
    "plt.yticks(())\n",
    "\n",
    "plt.show()"
   ]
  },
  {
   "cell_type": "code",
   "execution_count": null,
   "metadata": {},
   "outputs": [],
   "source": []
  }
 ],
 "metadata": {
  "kernelspec": {
   "display_name": "Python 3",
   "language": "python",
   "name": "python3"
  },
  "language_info": {
   "codemirror_mode": {
    "name": "ipython",
    "version": 3
   },
   "file_extension": ".py",
   "mimetype": "text/x-python",
   "name": "python",
   "nbconvert_exporter": "python",
   "pygments_lexer": "ipython3",
   "version": "3.7.6"
  }
 },
 "nbformat": 4,
 "nbformat_minor": 4
}
